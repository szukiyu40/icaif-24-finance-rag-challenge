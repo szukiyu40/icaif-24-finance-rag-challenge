{
 "cells": [
  {
   "cell_type": "code",
   "execution_count": 1,
   "metadata": {},
   "outputs": [],
   "source": [
    "import pandas as pd\n",
    "import glob\n",
    "from huggingface_hub import hf_hub_download"
   ]
  },
  {
   "cell_type": "code",
   "execution_count": 2,
   "metadata": {},
   "outputs": [
    {
     "name": "stdout",
     "output_type": "stream",
     "text": [
      "2024-11-08-13\n",
      "ratio_correct:  FinQABench 0.9333333333333333\n",
      "ratio_correct:  FinDER 0.44660194174757284\n",
      "ratio_correct:  FinanceBench 0.8305084745762712\n",
      "ratio_correct:  TATQA 0.5120481927710844\n",
      "ratio_correct:  FinQA 0.47674418604651164\n",
      "ratio_correct:  ConvFinQA 0.5238095238095238\n",
      "ratio_correct:  MultiHiertt 0.08796992481203007\n"
     ]
    },
    {
     "name": "stderr",
     "output_type": "stream",
     "text": [
      "/tmp/ipykernel_24377/1067254219.py:29: SettingWithCopyWarning: \n",
      "A value is trying to be set on a copy of a slice from a DataFrame.\n",
      "Try using .loc[row_indexer,col_indexer] = value instead\n",
      "\n",
      "See the caveats in the documentation: https://pandas.pydata.org/pandas-docs/stable/user_guide/indexing.html#returning-a-view-versus-a-copy\n",
      "  true_data['flag']=1\n",
      "/tmp/ipykernel_24377/1067254219.py:29: SettingWithCopyWarning: \n",
      "A value is trying to be set on a copy of a slice from a DataFrame.\n",
      "Try using .loc[row_indexer,col_indexer] = value instead\n",
      "\n",
      "See the caveats in the documentation: https://pandas.pydata.org/pandas-docs/stable/user_guide/indexing.html#returning-a-view-versus-a-copy\n",
      "  true_data['flag']=1\n",
      "/tmp/ipykernel_24377/1067254219.py:29: SettingWithCopyWarning: \n",
      "A value is trying to be set on a copy of a slice from a DataFrame.\n",
      "Try using .loc[row_indexer,col_indexer] = value instead\n",
      "\n",
      "See the caveats in the documentation: https://pandas.pydata.org/pandas-docs/stable/user_guide/indexing.html#returning-a-view-versus-a-copy\n",
      "  true_data['flag']=1\n",
      "/tmp/ipykernel_24377/1067254219.py:29: SettingWithCopyWarning: \n",
      "A value is trying to be set on a copy of a slice from a DataFrame.\n",
      "Try using .loc[row_indexer,col_indexer] = value instead\n",
      "\n",
      "See the caveats in the documentation: https://pandas.pydata.org/pandas-docs/stable/user_guide/indexing.html#returning-a-view-versus-a-copy\n",
      "  true_data['flag']=1\n",
      "/tmp/ipykernel_24377/1067254219.py:29: SettingWithCopyWarning: \n",
      "A value is trying to be set on a copy of a slice from a DataFrame.\n",
      "Try using .loc[row_indexer,col_indexer] = value instead\n",
      "\n",
      "See the caveats in the documentation: https://pandas.pydata.org/pandas-docs/stable/user_guide/indexing.html#returning-a-view-versus-a-copy\n",
      "  true_data['flag']=1\n",
      "/tmp/ipykernel_24377/1067254219.py:29: SettingWithCopyWarning: \n",
      "A value is trying to be set on a copy of a slice from a DataFrame.\n",
      "Try using .loc[row_indexer,col_indexer] = value instead\n",
      "\n",
      "See the caveats in the documentation: https://pandas.pydata.org/pandas-docs/stable/user_guide/indexing.html#returning-a-view-versus-a-copy\n",
      "  true_data['flag']=1\n",
      "/tmp/ipykernel_24377/1067254219.py:29: SettingWithCopyWarning: \n",
      "A value is trying to be set on a copy of a slice from a DataFrame.\n",
      "Try using .loc[row_indexer,col_indexer] = value instead\n",
      "\n",
      "See the caveats in the documentation: https://pandas.pydata.org/pandas-docs/stable/user_guide/indexing.html#returning-a-view-versus-a-copy\n",
      "  true_data['flag']=1\n"
     ]
    }
   ],
   "source": [
    "# gt と result の一致性を確認\n",
    "result_path=\"/home/ec2-user/FinanceRAG/results/\"\n",
    "\n",
    "# result_path の下で 2024-で始まるディレクトリを列挙\n",
    "import os\n",
    "dirs = os.listdir(result_path)\n",
    "dirs=[d for d in dirs if d.startswith(\"2024-11-08-13\")]\n",
    "trainig_data=pd.DataFrame()\n",
    "\n",
    "for d in dirs:\n",
    "    print(d)\n",
    "    for t in [\"FinQABench\", \"FinDER\", \"FinanceBench\", \"TATQA\", \"FinQA\", \"ConvFinQA\", \"MultiHiertt\"]:\n",
    "    #for t in [\"MultiHiertt\"]:\n",
    "        try:\n",
    "            # read FinDER_qrels.tsv\n",
    "            gt=pd.read_csv('../'+t+'_qrels.tsv', sep='\\t')\n",
    "\n",
    "            gt['query_id']=gt['query_id'].astype(str)\n",
    "\n",
    "            p = glob.glob(result_path+\"/\"+d+\"/\"+t+\"/*/results.csv\")\n",
    "            result=pd.read_csv(p[0])\n",
    "            result['query_id']=result['query_id'].astype(str)\n",
    "\n",
    "            #resultとgtを結合し、corpus_idが一致していないものをnegativeエントリ、一致しているものをpositiveエントリとしてtrainig_dataに追加\n",
    "\n",
    "            result_gt=pd.merge(result, gt, on='query_id', suffixes=('_result', '_gt'), how='inner')\n",
    "            result_gt['flag']=0\n",
    "            true_data=result_gt[result_gt['corpus_id_result']==result_gt['corpus_id_gt']]\n",
    "            true_data['flag']=1\n",
    "            false_data=result_gt[result_gt['corpus_id_result']!=result_gt['corpus_id_gt']]\n",
    "            trainig_data=pd.concat([trainig_data, false_data])\n",
    "            trainig_data=pd.concat([trainig_data, true_data])\n",
    "\n",
    "\n",
    "            num_correct=result_gt[result_gt['corpus_id_result']==result_gt['corpus_id_gt']].shape\n",
    "            print(\"ratio_correct: \",t, num_correct[0]/gt.shape[0])\n",
    "        except:\n",
    "            print(\"no result for \", t)\n"
   ]
  },
  {
   "cell_type": "code",
   "execution_count": 3,
   "metadata": {},
   "outputs": [
    {
     "name": "stdout",
     "output_type": "stream",
     "text": [
      "FinQABench\n",
      "FinDER\n",
      "FinanceBench\n",
      "TATQA\n",
      "FinQA\n",
      "ConvFinQA\n"
     ]
    },
    {
     "name": "stdout",
     "output_type": "stream",
     "text": [
      "MultiHiertt\n"
     ]
    }
   ],
   "source": [
    "#trainig_data に quertとcorpusを入れる\n",
    "# query と coupasを読み込み結合\n",
    "data_all=pd.DataFrame()\n",
    "query_all=pd.DataFrame()\n",
    "truth_name_list=[\"finqabench\", \"finder\", \"financebench\", \"tatqa\", \"finqa\", \"convfinqa\", \"multiheirtt\"]\n",
    "for ind, t in enumerate([\"FinQABench\", \"FinDER\", \"FinanceBench\", \"TATQA\", \"FinQA\", \"ConvFinQA\", \"MultiHiertt\"]):\n",
    "    print(t)\n",
    "    data=pd.read_json('../'+truth_name_list[ind]+'_corpus.jsonl/corpus.jsonl', lines=True)\n",
    "    query=pd.read_json('../'+truth_name_list[ind]+'_queries.jsonl/queries.jsonl', lines=True)\n",
    "    data_all=pd.concat([data_all, data])\n",
    "    query_all=pd.concat([query_all, query])\n",
    "\n",
    "# トレーニングデータにqueryとcorpusを追加\n",
    "trainig_data=pd.merge(trainig_data, data_all[[\"_id\",\"title\",\"text\"]], left_on='corpus_id_result',right_on='_id', how='left')\n",
    "trainig_data=pd.merge(trainig_data, query_all[[\"_id\",\"title\",\"text\"]], left_on='query_id', right_on='_id', how='left')\n"
   ]
  },
  {
   "cell_type": "code",
   "execution_count": 4,
   "metadata": {},
   "outputs": [],
   "source": [
    "from sentence_transformers import InputExample\n",
    "\n",
    "positive_examples = []\n",
    "negative_examples = []\n",
    "\n",
    "for idx, row in trainig_data.iterrows():\n",
    "    # Ensure the negative example is not the same as the positive one\n",
    "    if row['flag'] == 1:\n",
    "        positive_examples.append(\n",
    "            InputExample(texts=[row['title_y']+row['text_y'], row['text_x']], label=1.0)\n",
    "        )\n",
    "    else:\n",
    "        negative_examples.append(\n",
    "            InputExample(texts=[row['title_y']+row['text_y'], row['text_x']], label=0.0)\n",
    "        )"
   ]
  },
  {
   "cell_type": "code",
   "execution_count": 5,
   "metadata": {},
   "outputs": [
    {
     "name": "stdout",
     "output_type": "stream",
     "text": [
      "Name: huggingface-hub\n",
      "Version: 0.26.2\n",
      "Summary: Client library to download and publish models, datasets and other repos on the huggingface.co hub\n",
      "Home-page: https://github.com/huggingface/huggingface_hub\n",
      "Author: Hugging Face, Inc.\n",
      "Author-email: julien@huggingface.co\n",
      "License: Apache\n",
      "Location: /opt/conda/envs/pytorch/lib/python3.11/site-packages\n",
      "Requires: filelock, fsspec, packaging, pyyaml, requests, tqdm, typing-extensions\n",
      "Required-by: accelerate, datasets, sentence-transformers, tokenizers, transformers\n",
      "Note: you may need to restart the kernel to use updated packages.\n"
     ]
    }
   ],
   "source": [
    "pip show huggingface_hub\n"
   ]
  },
  {
   "cell_type": "code",
   "execution_count": 6,
   "metadata": {},
   "outputs": [],
   "source": [
    "# Combine positive and negative examples\n",
    "train_examples = positive_examples + negative_examples"
   ]
  },
  {
   "cell_type": "code",
   "execution_count": 7,
   "metadata": {},
   "outputs": [],
   "source": [
    "from torch.utils.data import DataLoader\n",
    "\n",
    "train_dataloader = DataLoader(train_examples, shuffle=True, batch_size=16)  # Adjust batch size as needed\n"
   ]
  },
  {
   "cell_type": "code",
   "execution_count": 8,
   "metadata": {},
   "outputs": [],
   "source": [
    "from sentence_transformers import SentenceTransformer, losses\n",
    "\n",
    "# Load a pre-trained model\n",
    "model = SentenceTransformer('intfloat/e5-large-v2')\n"
   ]
  },
  {
   "cell_type": "code",
   "execution_count": 9,
   "metadata": {},
   "outputs": [],
   "source": [
    "from transformers import Trainer\n",
    "\n",
    "class CustomTrainer(Trainer):\n",
    "    def compute_loss(self, model, inputs, return_outputs=False, **kwargs):\n",
    "        \"\"\"\n",
    "        Custom loss function that accepts additional arguments with **kwargs.\n",
    "        \"\"\"\n",
    "        # Forward pass through the model\n",
    "        outputs = model(**inputs)\n",
    "\n",
    "        # Compute loss based on model output\n",
    "        loss = outputs.loss if isinstance(outputs, dict) else outputs[0]\n",
    "\n",
    "        if return_outputs:\n",
    "            return loss, outputs\n",
    "        return loss"
   ]
  },
  {
   "cell_type": "code",
   "execution_count": 10,
   "metadata": {},
   "outputs": [],
   "source": [
    "train_loss = losses.CosineSimilarityLoss(model)\n"
   ]
  },
  {
   "cell_type": "code",
   "execution_count": null,
   "metadata": {},
   "outputs": [
    {
     "data": {
      "text/html": [
       "\n",
       "    <div>\n",
       "      \n",
       "      <progress value='466' max='1557' style='width:300px; height:20px; vertical-align: middle;'></progress>\n",
       "      [ 466/1557 10:06 < 23:44, 0.77 it/s, Epoch 0.30/1]\n",
       "    </div>\n",
       "    <table border=\"1\" class=\"dataframe\">\n",
       "  <thead>\n",
       " <tr style=\"text-align: left;\">\n",
       "      <th>Step</th>\n",
       "      <th>Training Loss</th>\n",
       "    </tr>\n",
       "  </thead>\n",
       "  <tbody>\n",
       "  </tbody>\n",
       "</table><p>"
      ],
      "text/plain": [
       "<IPython.core.display.HTML object>"
      ]
     },
     "metadata": {},
     "output_type": "display_data"
    }
   ],
   "source": [
    "model.fit(\n",
    "    train_objectives=[(train_dataloader, train_loss)],\n",
    "    epochs=1,  # Adjust epochs based on your dataset size and desired training time\n",
    "    warmup_steps=100,  # Adjust based on dataset size\n",
    "    evaluator=None,  # If no evaluator is required, set this to None\n",
    "    output_path=None,  # Provide output_path if you want to save the model\n",
    "    show_progress_bar=True,  # Whether to show a progress bar\n",
    ")"
   ]
  },
  {
   "cell_type": "code",
   "execution_count": null,
   "metadata": {},
   "outputs": [
    {
     "data": {
      "application/vnd.jupyter.widget-view+json": {
       "model_id": "5043a39c7a63434ea898952697deb73c",
       "version_major": 2,
       "version_minor": 0
      },
      "text/plain": [
       "Computing widget examples:   0%|          | 0/1 [00:00<?, ?example/s]"
      ]
     },
     "metadata": {},
     "output_type": "display_data"
    }
   ],
   "source": [
    "# Save the fine-tuned model\n",
    "model.save('fine_tuned_sentence_transformer_e5-large-v2')"
   ]
  }
 ],
 "metadata": {
  "kernelspec": {
   "display_name": "pytorch",
   "language": "python",
   "name": "python3"
  },
  "language_info": {
   "codemirror_mode": {
    "name": "ipython",
    "version": 3
   },
   "file_extension": ".py",
   "mimetype": "text/x-python",
   "name": "python",
   "nbconvert_exporter": "python",
   "pygments_lexer": "ipython3",
   "version": "3.11.10"
  }
 },
 "nbformat": 4,
 "nbformat_minor": 2
}
